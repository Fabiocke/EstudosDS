{
 "cells": [
  {
   "cell_type": "code",
   "execution_count": null,
   "metadata": {},
   "outputs": [],
   "source": []
  },
  {
   "cell_type": "code",
   "execution_count": 1,
   "metadata": {},
   "outputs": [],
   "source": [
    "import matplotlib.pyplot as plt"
   ]
  },
  {
   "cell_type": "code",
   "execution_count": 2,
   "metadata": {},
   "outputs": [],
   "source": [
    "class GradienteDescendente:\n",
    "    def __init__(self, x, real, m, b, l):\n",
    "        self.x, self.real, self.m, self.b, self.l = x, real, m, b, l\n",
    "        self.v = self.reta()\n",
    "        \n",
    "    def reg(self, x):\n",
    "        return self.m*x+self.b\n",
    "    \n",
    "    def reta(self):\n",
    "        return [self.reg(i) for i in self.x] \n",
    "\n",
    "    def fn_custo(self):\n",
    "        return sum([(i-j)**2 for i, j in zip(self.v, self.real)])\n",
    "\n",
    "    def derivada_custo_m(self):\n",
    "        return sum([(i[0] - i[1])*2*x*self.l for i, x in zip(zip(self.v, self.real), x)])\n",
    "    \n",
    "    def derivada_custo_b(self):\n",
    "        return sum([(i[0] - i[1])*2*self.l for i in zip(self.v, self.real)])\n",
    "    \n",
    "    def ajusta_mb(self):\n",
    "        self.m = self.m - self.derivada_custo_m()\n",
    "        self.b = self.b - self.derivada_custo_b()\n",
    "    \n",
    "    def plot(self):\n",
    "        plt.scatter(self.x, self.real)\n",
    "        plt.plot(self.x, self.v)\n"
   ]
  },
  {
   "cell_type": "code",
   "execution_count": 72,
   "metadata": {},
   "outputs": [],
   "source": [
    "x = [1,2,3,4,5,6,7,8,9,10,11,12,13]\n",
    "real = [1,3,3,2,5,2,5,7,8,7,10,9,12]\n",
    "l = 0.001\n",
    "m, b = 0.2, 2"
   ]
  },
  {
   "cell_type": "code",
   "execution_count": 73,
   "metadata": {},
   "outputs": [],
   "source": [
    "g = GradienteDescendente(x, real, m, b, l)"
   ]
  },
  {
   "cell_type": "code",
   "execution_count": 74,
   "metadata": {},
   "outputs": [
    {
     "name": "stdout",
     "output_type": "stream",
     "text": [
      "0.2 2\n"
     ]
    }
   ],
   "source": [
    "print(g.m, g.b)"
   ]
  },
  {
   "cell_type": "code",
   "execution_count": null,
   "metadata": {},
   "outputs": [],
   "source": []
  },
  {
   "cell_type": "code",
   "execution_count": 75,
   "metadata": {
    "scrolled": true
   },
   "outputs": [
    {
     "name": "stdout",
     "output_type": "stream",
     "text": [
      "19.143723295252187 19.143733266925537\n",
      "840\n"
     ]
    },
    {
     "data": {
      "image/png": "[encoded data removed]",
      "text/plain": [
       "<Figure size 432x288 with 1 Axes>"
      ]
     },
     "metadata": {
      "needs_background": "light"
     },
     "output_type": "display_data"
    }
   ],
   "source": [
    "custo_ant = 10\n",
    "i = 1\n",
    "while True:\n",
    "    g.ajusta_mb()\n",
    "    g.v = g.reta()\n",
    "    custo = g.fn_custo()\n",
    "    if abs(custo-custo_ant) < 0.00001:\n",
    "        print(custo, custo_ant)\n",
    "        print(i)\n",
    "        break\n",
    "    else:\n",
    "        custo_ant = custo\n",
    "        i+=1\n",
    "    \n",
    "g.plot()\n"
   ]
  },
  {
   "cell_type": "code",
   "execution_count": 76,
   "metadata": {},
   "outputs": [
    {
     "name": "stdout",
     "output_type": "stream",
     "text": [
      "0.8222452089147758 -0.059608078934319964\n"
     ]
    }
   ],
   "source": [
    "print(g.m, g.b)"
   ]
  },
  {
   "cell_type": "code",
   "execution_count": null,
   "metadata": {},
   "outputs": [],
   "source": []
  },
  {
   "cell_type": "code",
   "execution_count": 77,
   "metadata": {},
   "outputs": [],
   "source": [
    "# Regressão"
   ]
  },
  {
   "cell_type": "code",
   "execution_count": 78,
   "metadata": {},
   "outputs": [],
   "source": [
    "def media(v):\n",
    "    return sum(i for i in v)/len(v)"
   ]
  },
  {
   "cell_type": "code",
   "execution_count": 79,
   "metadata": {},
   "outputs": [],
   "source": [
    "def regressao(x, y):\n",
    "    mx, my = media(x), media(y)\n",
    "    sxy = sum([i*j for i, j in zip(x,real)])-len(x)*mx*my\n",
    "    sxx = sum([i**2 for i in x])-len(x)*mx**2\n",
    "    m = sxy/sxx\n",
    "    b = my - m*mx\n",
    "    return m, b"
   ]
  },
  {
   "cell_type": "code",
   "execution_count": 80,
   "metadata": {},
   "outputs": [],
   "source": [
    "m, b = regressao(x, real)"
   ]
  },
  {
   "cell_type": "code",
   "execution_count": 81,
   "metadata": {},
   "outputs": [],
   "source": [
    "def reg(m, b, x):\n",
    "    return m*x+b"
   ]
  },
  {
   "cell_type": "code",
   "execution_count": 82,
   "metadata": {},
   "outputs": [],
   "source": [
    "def reta(m, b, x):\n",
    "    return [reg(m, b, i) for i in x] "
   ]
  },
  {
   "cell_type": "code",
   "execution_count": 89,
   "metadata": {},
   "outputs": [
    {
     "data": {
      "text/plain": [
       "[<matplotlib.lines.Line2D at 0x2a41dc799e8>]"
      ]
     },
     "execution_count": 89,
     "metadata": {},
     "output_type": "execute_result"
    },
    {
     "data": {
      "image/png": "[encoded data removed]",
      "text/plain": [
       "<Figure size 432x288 with 1 Axes>"
      ]
     },
     "metadata": {
      "needs_background": "light"
     },
     "output_type": "display_data"
    }
   ],
   "source": [
    "plt.scatter(x, real)\n",
    "plt.plot(x, reta(m, b, x), color='r')\n",
    "plt.plot(x, reta(g.m, g.b, x), color='g')"
   ]
  },
  {
   "cell_type": "code",
   "execution_count": 91,
   "metadata": {},
   "outputs": [
    {
     "data": {
      "text/plain": [
       "(0.8241758241758241,\n",
       " 0.8222452089147758,\n",
       " -0.07692307692307665,\n",
       " -0.059608078934319964)"
      ]
     },
     "execution_count": 91,
     "metadata": {},
     "output_type": "execute_result"
    }
   ],
   "source": [
    "m, g.m, b, g.b"
   ]
  },
  {
   "cell_type": "code",
   "execution_count": 92,
   "metadata": {},
   "outputs": [],
   "source": [
    "def fn_custo(x, y):\n",
    "    return sum([(i-j)**2 for i, j in zip(x, y)])"
   ]
  },
  {
   "cell_type": "code",
   "execution_count": 93,
   "metadata": {},
   "outputs": [
    {
     "data": {
      "text/plain": [
       "27.857142857142858"
      ]
     },
     "execution_count": 93,
     "metadata": {},
     "output_type": "execute_result"
    }
   ],
   "source": [
    "fn_custo(x, reta(m, b, x))"
   ]
  },
  {
   "cell_type": "code",
   "execution_count": 94,
   "metadata": {},
   "outputs": [
    {
     "data": {
      "text/plain": [
       "27.852344886756764"
      ]
     },
     "execution_count": 94,
     "metadata": {},
     "output_type": "execute_result"
    }
   ],
   "source": [
    "fn_custo(x, reta(g.m, g.b, x))"
   ]
  },
  {
   "cell_type": "code",
   "execution_count": null,
   "metadata": {},
   "outputs": [],
   "source": []
  },
  {
   "cell_type": "code",
   "execution_count": null,
   "metadata": {},
   "outputs": [],
   "source": []
  },
  {
   "cell_type": "code",
   "execution_count": null,
   "metadata": {},
   "outputs": [],
   "source": []
  },
  {
   "cell_type": "code",
   "execution_count": null,
   "metadata": {},
   "outputs": [],
   "source": []
  },
  {
   "cell_type": "code",
   "execution_count": null,
   "metadata": {},
   "outputs": [],
   "source": []
  }
 ],
 "metadata": {
  "kernelspec": {
   "display_name": "Python 3",
   "language": "python",
   "name": "python3"
  },
  "language_info": {
   "codemirror_mode": {
    "name": "ipython",
    "version": 3
   },
   "file_extension": ".py",
   "mimetype": "text/x-python",
   "name": "python",
   "nbconvert_exporter": "python",
   "pygments_lexer": "ipython3",
   "version": "3.7.3"
  }
 },
 "nbformat": 4,
 "nbformat_minor": 2
}
